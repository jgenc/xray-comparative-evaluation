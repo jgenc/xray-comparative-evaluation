{
 "cells": [
  {
   "cell_type": "code",
   "execution_count": 1,
   "metadata": {},
   "outputs": [],
   "source": [
    "from mmengine.fileio import load\n",
    "import json"
   ]
  },
  {
   "cell_type": "code",
   "execution_count": 2,
   "metadata": {},
   "outputs": [],
   "source": [
    "prediction_path = '/home/cv-group/jorgen/ceasefire/ceasefire/Comparative Evaluation/runs/SWIN_dino-5scale-swin-b-8xb2-36e_coco_SIXray10_CFray/test/results.pkl'\n",
    "results = load(prediction_path)"
   ]
  },
  {
   "cell_type": "code",
   "execution_count": 15,
   "metadata": {},
   "outputs": [
    {
     "name": "stdout",
     "output_type": "stream",
     "text": [
      "dict_keys(['batch_input_shape', 'img_path', 'img_id', 'ori_shape', 'img_shape', 'pad_shape', 'scale_factor', 'pred_instances'])\n",
      "724\n"
     ]
    }
   ],
   "source": [
    "print(results[0].keys())\n",
    "print(len(results))"
   ]
  },
  {
   "cell_type": "code",
   "execution_count": 7,
   "metadata": {},
   "outputs": [
    {
     "name": "stdout",
     "output_type": "stream",
     "text": [
      "{0: {'name': 'Metal Pistols', 'instances': 0}, 9: {'name': 'Threat', 'instances': 0}, 6: {'name': 'Components', 'instances': 0}, 1: {'name': 'Plastic Pistols', 'instances': 0}, 2: {'name': 'Revolvers', 'instances': 0}, 5: {'name': 'Shotguns', 'instances': 0}, 3: {'name': 'SMGs', 'instances': 0}, 7: {'name': 'Ammunition', 'instances': 0}, 4: {'name': 'Rifles', 'instances': 0}}\n",
      "{0: {'name': 'Metal Pistols', 'instances': 170}, 9: {'name': 'Threat', 'instances': 46}, 6: {'name': 'Components', 'instances': 490}, 1: {'name': 'Plastic Pistols', 'instances': 47}, 2: {'name': 'Revolvers', 'instances': 88}, 5: {'name': 'Shotguns', 'instances': 15}, 3: {'name': 'SMGs', 'instances': 50}, 7: {'name': 'Ammunition', 'instances': 49}, 4: {'name': 'Rifles', 'instances': 38}}\n"
     ]
    }
   ],
   "source": [
    "test_json_cfray_path = \"/home/cv-group/jorgen/ceasefire/ceasefire/Datasets/CFray_v1/annotations/test.json\"\n",
    "with open(test_json_cfray_path, 'r') as f:\n",
    "    test_json_cfray = json.load(f)\n",
    "\n",
    "    classes = {}\n",
    "    for i, cat in enumerate(test_json_cfray['categories']):\n",
    "        classes[cat['id']] = dict(name=cat['name'], instances=0)\n",
    "    \n",
    "    print(classes)\n",
    "\n",
    "    for annot in test_json_cfray['annotations']:\n",
    "        classes[annot['category_id']]['instances'] += 1\n",
    "\n",
    "    print(classes)"
   ]
  }
 ],
 "metadata": {
  "kernelspec": {
   "display_name": ".venv",
   "language": "python",
   "name": "python3"
  },
  "language_info": {
   "codemirror_mode": {
    "name": "ipython",
    "version": 3
   },
   "file_extension": ".py",
   "mimetype": "text/x-python",
   "name": "python",
   "nbconvert_exporter": "python",
   "pygments_lexer": "ipython3",
   "version": "3.11.9"
  }
 },
 "nbformat": 4,
 "nbformat_minor": 2
}
